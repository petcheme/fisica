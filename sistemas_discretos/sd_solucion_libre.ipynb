{
 "cells": [
  {
   "cell_type": "markdown",
   "metadata": {},
   "source": [
    "# Sistemas discretos\n",
    "\n",
    "Notebook para calcular las soluciones para sistemas arbitrarios de N masas:\n",
    "\n",
    "$$ \\mathbf{M} \\mathbf{\\ddot \\Psi} = \\mathbf{K} \\mathbf{\\Psi} $$\n",
    "\n",
    "que cumplen condiciones iniciales:\n",
    "\n",
    "$$\\begin{cases}\n",
    "\\mathbf{\\Psi}(t=0) = \\mathbf{\\Psi_0} \\\\\n",
    "\\mathbf{\\ddot\\Psi}(t=0) = \\mathbf{\\Xi_0}\n",
    "\\end{cases}$$"
   ]
  },
  {
   "cell_type": "markdown",
   "metadata": {},
   "source": [
    "## Importación de librerías"
   ]
  },
  {
   "cell_type": "code",
   "execution_count": null,
   "metadata": {},
   "outputs": [],
   "source": [
    "import matplotlib.pyplot as plt\n",
    "import numpy as np\n",
    "import numpy.matlib as npm\n",
    "\n",
    "%matplotlib notebook"
   ]
  },
  {
   "cell_type": "markdown",
   "metadata": {},
   "source": [
    "## Ingreso de parámetros\n",
    "\n",
    "Defino los parámetros *de entrada* de mi sistema. Las unidades son libres, si respeto MKS, todas las magnitudes derivadas lo harán también.\n",
    "\n",
    "Para cada caso, se deben definir **un vector con las masas de cada partícula**, y **una matriz con las interacciones entre las mismas**. Además debo definir las condiciones iniciales y los tiempos en los que quiero graficar la solución."
   ]
  },
  {
   "cell_type": "markdown",
   "metadata": {},
   "source": [
    "### *Template* para agregar nuevos casos "
   ]
  },
  {
   "cell_type": "code",
   "execution_count": null,
   "metadata": {},
   "outputs": [],
   "source": [
    "# M = # vector de masas\n",
    "# K = # matriz de interacciones\n",
    "# psi_0 = # vector columna con posiciones iniciales de cada masa\n",
    "# xi_0 = # vector columna con velocidades iniciales de cada masa\n",
    "# t = # vector de tiempos para mostrar la solución"
   ]
  },
  {
   "cell_type": "markdown",
   "metadata": {},
   "source": [
    "### Caso base\n",
    "\n",
    "Dos masas iguales unidas entre sí, y a puntos fijos en los costados, mediante tres resortes iguales. Mis parámetros básicos son la masa $m$ y la constante elástica $k$, a partir de ellos armo los parámetros requeridos."
   ]
  },
  {
   "cell_type": "code",
   "execution_count": null,
   "metadata": {},
   "outputs": [],
   "source": [
    "m = 2.  # unidades mks = [kg]\n",
    "k = 2.  # unidades mks = [N/m]"
   ]
  },
  {
   "cell_type": "markdown",
   "metadata": {},
   "source": [
    "#### Vector de masas\n",
    "Defino un vector cuyo elemento $n$ contiene el valor de la masa enésima. Para esto empleo un array 1D (que tendrá dos elementos ya que quiero tener dos masas).\n",
    "\n",
    "(Nota: array es una manera de almacenar datos multidimensionales en numpy; lo usaremos para representar tanto vectores como matrices)."
   ]
  },
  {
   "cell_type": "code",
   "execution_count": null,
   "metadata": {},
   "outputs": [],
   "source": [
    "# El comando ones de numpy me permite generar un array 1D con N = 2 elementos\n",
    "# que valen 1. Multiplico por el escalar m para que tomen el valor requerido.\n",
    "# (La multiplicación es equivalente a la de un escalar y un vector).\n",
    "m_vector = m*np.ones(2)\n",
    "\n",
    "# Veamos el resultado\n",
    "m_vector"
   ]
  },
  {
   "cell_type": "code",
   "execution_count": null,
   "metadata": {},
   "outputs": [],
   "source": [
    "# Para acceder a los elementos uso notación de corchetes. El primer elemento\n",
    "# corresponde al índice 0:\n",
    "m_vector[0]"
   ]
  },
  {
   "cell_type": "code",
   "execution_count": null,
   "metadata": {},
   "outputs": [],
   "source": [
    "# El segundo elemento corresponde al índice 1 (y así hasta el índice N-1)\n",
    "m_vector[1]"
   ]
  },
  {
   "cell_type": "code",
   "execution_count": null,
   "metadata": {},
   "outputs": [],
   "source": [
    "# Muestro el atributo ndim del array; confirmo que es 1D\n",
    "m_vector.ndim"
   ]
  },
  {
   "cell_type": "code",
   "execution_count": null,
   "metadata": {},
   "outputs": [],
   "source": [
    "# Muestro el atributo shape del array; confirmo que tiene dos elementos\n",
    "m_vector.shape"
   ]
  },
  {
   "cell_type": "code",
   "execution_count": null,
   "metadata": {},
   "outputs": [],
   "source": [
    "# Otro atributo que puede ser útil es útil es size, me da la cantidad de\n",
    "# elementos del array\n",
    "m_vector.size"
   ]
  },
  {
   "cell_type": "markdown",
   "metadata": {},
   "source": [
    "#### Matriz de interacciones (o de rigidez)\n",
    "\n",
    "Defino una matriz cuyo elemento $(i,j)$ contiene el coeficiente elástico correspondiente al efecto del desplazamiento de la masa $j$ sobre la aceleración de la masa $i$, **con el signo correspondiente**. Es un array 2D, de dimensiones 2x2:"
   ]
  },
  {
   "cell_type": "code",
   "execution_count": null,
   "metadata": {},
   "outputs": [],
   "source": [
    "# El comando array me permite definir matrices y vectores de dimensiones\n",
    "# arbitrarias, en este caso escribo explícitamente sus elementos usando\n",
    "# notación de corchetes, y luego multiplico por el escalar k para que la\n",
    "# matriz tenga el valor requerido.\n",
    "K = k*np.array([[-2., 1.],[ 1., -2.]])\n",
    "\n",
    "K"
   ]
  },
  {
   "cell_type": "code",
   "execution_count": null,
   "metadata": {},
   "outputs": [],
   "source": [
    "# Para acceder a los elementos de una matriz uso notación de corchetes con\n",
    "# dos índices, el primero corresponde a la fila, el segundo a la columna,\n",
    "# comenzando desde 0\n",
    "print(K[0,0]) # primer elemento de la diagonal\n",
    "print(K[0,1])\n",
    "print(K[1,0])\n",
    "print(K[1,1])\n",
    "\n",
    "# Nota: uso print para poder tener varias salidas en una misma celda del notebook"
   ]
  },
  {
   "cell_type": "code",
   "execution_count": null,
   "metadata": {},
   "outputs": [],
   "source": [
    "# También puedo acceder a una fila o columna de la matriz usando notación de\n",
    "# corchetes con un único índice:\n",
    "print(K[:,0]) # primera columna\n",
    "print(K[:,1])\n",
    "print(K[0,:]) # primera fila\n",
    "print(K[1,:])"
   ]
  },
  {
   "cell_type": "code",
   "execution_count": null,
   "metadata": {},
   "outputs": [],
   "source": [
    "# Podemos obtener los atributos de estos arrays de la siguiente manera:\n",
    "print(K[0,:].shape)\n",
    "print(K[0,:].ndim)\n",
    "print(K[0,:].size)\n",
    "\n",
    "# lo cual nos permite comprobar que se trata de arrays 1D"
   ]
  },
  {
   "cell_type": "code",
   "execution_count": null,
   "metadata": {},
   "outputs": [],
   "source": [
    "K.ndim      # dimensiones"
   ]
  },
  {
   "cell_type": "code",
   "execution_count": null,
   "metadata": {},
   "outputs": [],
   "source": [
    "K.shape     # forma"
   ]
  },
  {
   "cell_type": "code",
   "execution_count": null,
   "metadata": {},
   "outputs": [],
   "source": [
    "K.size      # cantidad de elementos"
   ]
  },
  {
   "cell_type": "markdown",
   "metadata": {},
   "source": [
    "#### Condiciones iniciales\n",
    "\n",
    "Defino los vectores $\\mathbf{\\Psi_0}$ y $\\mathbf{\\Xi_0}$ a partir de la posición y velocidad inicial de cada masa.\n"
   ]
  },
  {
   "cell_type": "code",
   "execution_count": null,
   "metadata": {},
   "outputs": [],
   "source": [
    "# Aparto una masa de su equilibrio, sistema parte del reposo\n",
    "pos_masa_1 = 1\n",
    "pos_masa_2 = 0\n",
    "vel_masa_1 = 0\n",
    "vel_masa_2 = 0"
   ]
  },
  {
   "cell_type": "markdown",
   "metadata": {},
   "source": [
    "Voy a escribir los vectores $\\mathbf{\\Psi_0}$ y $\\mathbf{\\Xi_0}$ como vectores columna; para esto debo definirlas como arrays 2D, de dimensiones 2x1:\n",
    "\n",
    "(Para arrays 1D no existe la distinción entre vector fila y columna) "
   ]
  },
  {
   "cell_type": "code",
   "execution_count": null,
   "metadata": {},
   "outputs": [],
   "source": [
    "# Uso el comando array pero agregando el parametro ndmin=2, y luego uso el atributo T\n",
    "# que me da la transpuesta (ya que la instrucción por si sola me da un vector fila)\n",
    "psi_0 = np.array([pos_masa_1, pos_masa_2], ndmin = 2).T          # desplazamientos iniciales\n",
    "\n",
    "psi_0"
   ]
  },
  {
   "cell_type": "code",
   "execution_count": null,
   "metadata": {},
   "outputs": [],
   "source": [
    "xi_0 = np.array([vel_masa_1, vel_masa_2], ndmin = 2).T          # velocidades iniciales\n",
    "\n",
    "xi_0"
   ]
  },
  {
   "cell_type": "code",
   "execution_count": null,
   "metadata": {},
   "outputs": [],
   "source": [
    "# Chequeo que la forma corresponde a vectores columna\n",
    "print(psi_0.shape)\n",
    "print(xi_0.shape)"
   ]
  },
  {
   "cell_type": "markdown",
   "metadata": {},
   "source": [
    "#### Tiempos\n",
    "\n",
    "Defino un vector que contiene los tiempos en los que quiero graficar la solución. Debo indicar los tiempos inicial y final, y la cantidad de puntos que quiero graficar. Uso un array 1D."
   ]
  },
  {
   "cell_type": "code",
   "execution_count": null,
   "metadata": {},
   "outputs": [],
   "source": [
    "t_min     = 0.\n",
    "t_max     = 10.\n",
    "n_samples = 1001\n",
    "t         = np.linspace(t_min, t_max, n_samples)\n",
    "\n",
    "t"
   ]
  },
  {
   "cell_type": "markdown",
   "metadata": {},
   "source": [
    "### Ejercicio 6"
   ]
  },
  {
   "cell_type": "code",
   "execution_count": null,
   "metadata": {},
   "outputs": [],
   "source": [
    "alfa = 2/3  # alfa me permite controlar el desbalance entre masas\n",
    "m = 1.\n",
    "k = 1.\n",
    "\n",
    "m_vector = m*np.array([1, alfa])\n",
    "K = k*np.array([[-2., 1.], [1., -1. ]])\n",
    "\n",
    "psi_0 = np.array([1.,0.], ndmin = 2).T\n",
    "xi_0  = np.array([0.,0.], ndmin = 2).T\n",
    "\n",
    "t = np.linspace(0, 10, 10000)"
   ]
  },
  {
   "cell_type": "markdown",
   "metadata": {},
   "source": [
    "### Ejercicio 7"
   ]
  },
  {
   "cell_type": "code",
   "execution_count": null,
   "metadata": {},
   "outputs": [],
   "source": [
    "alfa = 1  # alfa me permite controlar el desbalance entre masas\n",
    "m = 1.\n",
    "k = 1e-1\n",
    "l = 1.    # \\_ parametros de los pendulos\n",
    "g = 10.   # /\n",
    "\n",
    "m_vector = m*np.array([1, alfa])\n",
    "K = k*np.array([[-1., 1.], [1., -1. ]]) + m*g/l*np.array([[-1., 0], [0, -1. ]])\n",
    "\n",
    "psi_0 = np.array([0.,0.], ndmin = 2).T\n",
    "xi_0  = np.array([1.,-1.], ndmin = 2).T\n",
    "\n",
    "t = np.linspace(0, 100, 200000)"
   ]
  },
  {
   "cell_type": "markdown",
   "metadata": {},
   "source": [
    "### Ejercicio 8"
   ]
  },
  {
   "cell_type": "code",
   "execution_count": null,
   "metadata": {},
   "outputs": [],
   "source": [
    "alfa = 1  # alfa me permite controlar el desbalance entre masas\n",
    "m  = 1.\n",
    "k1 = 1.\n",
    "k2 = k1/10\n",
    "\n",
    "m_vector = m*np.array([1, alfa])\n",
    "K = np.array([[-k1-k2, k2], [k2, -k1-k2]])\n",
    "\n",
    "psi_0 = np.array([0.,0.], ndmin = 2).T\n",
    "xi_0  = np.array([1.,0.], ndmin = 2).T\n",
    "\n",
    "t = np.linspace(0, 100, 200000)"
   ]
  },
  {
   "cell_type": "markdown",
   "metadata": {},
   "source": [
    "### Ejercicio 11 (N masas acopladas con extremos fijos)"
   ]
  },
  {
   "cell_type": "code",
   "execution_count": null,
   "metadata": {},
   "outputs": [],
   "source": [
    "N = 20\n",
    "m = 1\n",
    "k = 2\n",
    "\n",
    "m_vector = m*np.ones(N)              # vector de masas\n",
    "\n",
    "# K es una matriz tridiagonal\n",
    "K = -2*k*np.diag(np.ones(N)) + k*np.diag(np.ones(N-1),1) + k*np.diag(np.ones(N-1),-1)\n",
    "\n",
    "psi_0 = np.array(np.zeros(N), ndmin = 2).T\n",
    "xi_0  = np.array(np.zeros(N), ndmin = 2).T\n",
    "psi_0[0] = 1.\n",
    "\n",
    "t = np.linspace(0, 10, 10000)"
   ]
  },
  {
   "cell_type": "markdown",
   "metadata": {},
   "source": [
    "### Ejercicio 11 modificado (extremo derecho libre)"
   ]
  },
  {
   "cell_type": "code",
   "execution_count": null,
   "metadata": {},
   "outputs": [],
   "source": [
    "# heredo los parámetros originales y modifico el extremo derecho en la matriz K\n",
    "K[N-1,N-1]=-k"
   ]
  },
  {
   "cell_type": "markdown",
   "metadata": {},
   "source": [
    "### Ejercicio 12 (N péndulos acoplados con extremos mixtos)"
   ]
  },
  {
   "cell_type": "code",
   "execution_count": null,
   "metadata": {},
   "outputs": [],
   "source": [
    "N = 10\n",
    "m = 1\n",
    "k = 2\n",
    "l = 1\n",
    "g = 10\n",
    "\n",
    "m_vector = m*np.ones(N)              # vector de masas\n",
    "\n",
    "K_pendulos = -m*g/l*np.diag(np.ones(N))\n",
    "K_resortes = -2*k*np.diag(np.ones(N)) + k*np.diag(np.ones(N-1),1) + k*np.diag(np.ones(N-1),-1)\n",
    "K_resortes[N-1,N-1] = -k\n",
    "\n",
    "K = K_pendulos + K_resortes\n",
    "\n",
    "psi_0 = np.array(np.zeros(N), ndmin = 2).T\n",
    "xi_0  = np.array(np.zeros(N), ndmin = 2).T\n",
    "psi_0[0] = 1.\n",
    "\n",
    "t = np.linspace(0, 10, 10000)"
   ]
  },
  {
   "cell_type": "markdown",
   "metadata": {},
   "source": [
    "## Parámetros derivados"
   ]
  },
  {
   "cell_type": "code",
   "execution_count": null,
   "metadata": {},
   "outputs": [],
   "source": [
    "# Cantidad de masas\n",
    "n_masas   = np.size(m_vector)\n",
    "# Cantidad de samples para el gráfico\n",
    "n_samples = t.size"
   ]
  },
  {
   "cell_type": "markdown",
   "metadata": {},
   "source": [
    "## Chequeo de parámetros\n",
    "\n",
    "Cuando un código tiene muchos parámetros de entrada, es conveniente tener una sección donde se verifique que los mismos sean consistentes. Enumeramos algunos chequeos que pueden ser útiles:\n",
    "\n",
    "1) Consistencia entre las dimensiones de la matriz de interacciones y la cantidad de masas; ídem para los vectores con las condiciones iniciales.\n",
    "\n",
    "2) La matriz de interacciones debe ser cuadrada.\n",
    "\n",
    "3) Todos los parámetros deben ser reales; las masas además deben ser positivas.\n",
    "\n",
    "4) La diagonal de la matriz de interacciones debe ser negativa para asegurar que las masas sientan fuerzas restitutivas.\n",
    "\n",
    "Si bien en algunos casos estos problemas pueden generar un error durante la ejecución del código, en otros no, por lo que si no realizamos un chequeo, solo podremos darnos cuenta al notar inconsistencias en los resultados generados.\n",
    "\n",
    "A continuación mostramos algunas instrucciones para realizar estos chequeos (hay que refinarlas para casos con muchas masas)"
   ]
  },
  {
   "cell_type": "code",
   "execution_count": null,
   "metadata": {},
   "outputs": [],
   "source": [
    "print(n_masas)\n",
    "print(m_vector.shape)\n",
    "print(K.shape)\n",
    "print(psi_0.shape)\n",
    "print(xi_0.shape)"
   ]
  },
  {
   "cell_type": "code",
   "execution_count": null,
   "metadata": {},
   "outputs": [],
   "source": [
    "m_vector > 0"
   ]
  },
  {
   "cell_type": "code",
   "execution_count": null,
   "metadata": {},
   "outputs": [],
   "source": [
    "np.diagonal(K) < 0"
   ]
  },
  {
   "cell_type": "code",
   "execution_count": null,
   "metadata": {},
   "outputs": [],
   "source": [
    "print(np.iscomplex(m_vector))\n",
    "print(np.iscomplex(K))\n",
    "print(np.iscomplex(psi_0))\n",
    "print(np.iscomplex(xi_0))"
   ]
  },
  {
   "cell_type": "markdown",
   "metadata": {},
   "source": [
    "## Solución del sistema libre\n",
    "\n",
    "### Autovalores y autovectores"
   ]
  },
  {
   "cell_type": "markdown",
   "metadata": {},
   "source": [
    "Antes de plantear la solución, voy a definir una matriz diagonal cuyos elementos representan las masas de cada partícula. Hago esto para poder despejar las masas fácilmente usando álgebra de matrices\n",
    "\n",
    "$$ \\mathbf{M} = \\begin{bmatrix} m_1 & & 0 \\\\  & \\ddots \\\\ 0 & & m_N \\end{bmatrix} $$\n",
    "\n",
    "Para despejar las masas obtengo la matrix inversa:\n",
    "\n",
    "$$ \\mathbf{\\ddot \\Psi} = \\mathbf{M^{-1}} \\mathbf{K} \\mathbf{\\Psi} = \\mathbf{\\Omega} \\mathbf{\\Psi} $$ \n",
    "\n",
    "El sistema se resuelve a partir de plantear la solución de modos normales:\n",
    "\n",
    "$$ \\mathbf{\\Psi} = \\mathbf{a} \\exp(i \\omega t) $$\n",
    "\n",
    "en la cual $\\mathbf{a}$ y $\\omega$ son, respectivamente, un vector y un escalar a determinar. Los mismos se obtienen resolviendo el problema de autovalores y autovectores sobre la matriz $\\mathbf{\\Omega}$:\n",
    "\n",
    "$$ -\\omega^2 \\mathbf{a} = \\mathbf{\\Omega} \\mathbf{a}  = \\lambda \\mathbf{a} $$\n",
    "\n",
    "al cual se llega insertando la solución propuesta en la ecuación diferencial."
   ]
  },
  {
   "cell_type": "code",
   "execution_count": null,
   "metadata": {},
   "outputs": [],
   "source": [
    "# La instruccion diag me permite armar una matriz diagonal a partir de un array 1D\n",
    "M = np.diag(m_vector)\n",
    "\n",
    "M"
   ]
  },
  {
   "cell_type": "code",
   "execution_count": null,
   "metadata": {},
   "outputs": [],
   "source": [
    "# Esta instruccion me da la matriz inversa, notar que es una matriz diagonal cuyos\n",
    "# elementos son 1/m_1 ... 1/m_N\n",
    "M_inv = np.linalg.inv(M)\n",
    "\n",
    "M_inv"
   ]
  },
  {
   "cell_type": "code",
   "execution_count": null,
   "metadata": {},
   "outputs": [],
   "source": [
    "# La instrucción dot me permite multiplicar matrices según las reglas del álgebra\n",
    "# de matrices\n",
    "W = np.dot(M_inv, K)\n",
    "\n",
    "W"
   ]
  },
  {
   "cell_type": "code",
   "execution_count": null,
   "metadata": {},
   "outputs": [],
   "source": [
    "# Esta instrucción me permite obtener los autovalores y autovectores normalizados de W\n",
    "l, A = np.linalg.eig(W)\n",
    "\n",
    "print(l)  # vector de autovalores\n",
    "print(A)  # matriz de autovectores columna"
   ]
  },
  {
   "cell_type": "code",
   "execution_count": null,
   "metadata": {},
   "outputs": [],
   "source": [
    "# Accedo al primer autovalor \n",
    "l[0]"
   ]
  },
  {
   "cell_type": "code",
   "execution_count": null,
   "metadata": {},
   "outputs": [],
   "source": [
    "# Accedo al primer autovector\n",
    "A[:,0]"
   ]
  },
  {
   "cell_type": "markdown",
   "metadata": {},
   "source": [
    "Para obtener las frecuencias, uso que:\n",
    "\n",
    "$$ \\omega_i = \\sqrt{-\\lambda_i} $$"
   ]
  },
  {
   "cell_type": "code",
   "execution_count": null,
   "metadata": {},
   "outputs": [],
   "source": [
    "w = np.sqrt(-l)\n",
    "\n",
    "w"
   ]
  },
  {
   "cell_type": "code",
   "execution_count": null,
   "metadata": {},
   "outputs": [],
   "source": [
    "# No siempre las frecuencias quedan ordenadas de menor a mayor, uso argsort para \n",
    "# reordenar todo\n",
    "indices_ordenados = np.argsort(w)\n",
    "l = l[indices_ordenados]\n",
    "w = w[indices_ordenados]\n",
    "A = A[:,indices_ordenados]\n",
    "\n",
    "# ademas voy a hacer que todos los autovectores tengan su primer elemento positivo\n",
    "#A = A*npm.repmat(np.sign(A[0,:]), n_masas, 1)"
   ]
  },
  {
   "cell_type": "markdown",
   "metadata": {},
   "source": [
    "Voy a mostrar las frecuencias del sistema ordenadas:"
   ]
  },
  {
   "cell_type": "code",
   "execution_count": null,
   "metadata": {},
   "outputs": [],
   "source": [
    "# Completar nombres de ejes, etc.\n",
    "fig2, ax2 = plt.subplots()\n",
    "fig2.set_size_inches(4, 4)\n",
    "ax2.plot(w, marker='.')\n",
    "\n",
    "print(np.min(w))\n",
    "print(np.max(w))\n",
    "\n",
    "np.log(np.max(w) / np.min(w)) / np.log(2)"
   ]
  },
  {
   "cell_type": "markdown",
   "metadata": {},
   "source": [
    "Y ahora muestro los autovectores en un gráfico de colores (útil para sistemas de muchas masas)"
   ]
  },
  {
   "cell_type": "code",
   "execution_count": null,
   "metadata": {},
   "outputs": [],
   "source": [
    "fig1, ax1 = plt.subplots()\n",
    "fig1.set_size_inches(4, 4)\n",
    "\n",
    "ax1.imshow(A)"
   ]
  },
  {
   "cell_type": "code",
   "execution_count": null,
   "metadata": {},
   "outputs": [],
   "source": [
    "# Muestro hasta los primeros n modos\n",
    "n = min(10, n_masas)\n",
    "fig3, ax3 = plt.subplots(nrows=n,ncols=1)\n",
    "fig3.set_size_inches(3, 2*n)\n",
    "for i in range(0,n):\n",
    "    ax3[i].plot(A[:,i], marker='.')"
   ]
  },
  {
   "cell_type": "markdown",
   "metadata": {},
   "source": [
    "### Condiciones iniciales\n",
    "\n",
    "La solución de mi sistema se escribe como:\n",
    "\n",
    "$$ \\mathbf{\\Psi} = \\sum_{j=1}^N c_j \\mathbf{a_j} \\exp(i \\omega_j t) $$\n",
    "\n",
    "$$ \\mathbf{\\dot\\Psi} = \\Xi = i \\sum_{j=1}^N \\omega_j c_j \\mathbf{a_j} \\exp(i \\omega_j t) $$\n",
    "\n",
    "donde $c_j$ son $N$ pesos complejos que se obtienen al plantear las condiciones iniciales. Para hallar los pesos, es necesario tomar parte real en mi solución compleja (evaluada en $t=0$) e igualar a las condiciones iniciales:\n",
    "\n",
    "$$ \\begin{cases}\n",
    "\\mathbf{\\Psi_0} = \\Re[\\mathbf{a_1} c_1 + ... + \\mathbf{a_N} c_N ] \\\\ \n",
    "\\mathbf{\\Xi_0}  = \\Re[i \\mathbf{a_1} c_1 \\omega_1 + ... + i \\mathbf{a_N} c_N \\omega_N]\n",
    " \\end{cases}\n",
    "$$ \n",
    "\n",
    "Notar que tenemos tantos pesos como masas en el sistema, a la vez que la cantidad de ecuaciones es el doble que la cantidad de masas; esto se debe a que para cada peso es necesario determinar su parte real y su parte imaginaria. Es decir, para un sistema con $N$ masas, tendremos que hallar $2N$ incógnitas mediante $2N$ ecuaciones. (Para pensar, ¿es posible que este sistema sea indeterminado?)\n",
    "\n",
    "Voy a expresar este sistema de ecuaciones en notación matricial; para esto voy a usar la matriz de autovectores, la cuál se define como una matriz cuyas columnas corresponden a cada autovector:\n",
    "\n",
    "$$ \\mathbf{A} = \\begin{bmatrix} \\mathbf{a_1} & ... & \\mathbf{a_N} \\end{bmatrix} $$\n",
    "\n",
    "En notación matricial el sistema se expresa:\n",
    "\n",
    "$$ \\begin{cases}\n",
    "\\mathbf{\\Psi_0} = \\begin{bmatrix} \\mathbf{a_1} & ... & \\mathbf{a_N} \\end{bmatrix} \n",
    "                  \\begin{bmatrix} \\Re[c_1] \\\\ \\vdots \\\\ \\Re[c_N] \\end{bmatrix} \\\\\n",
    "\\mathbf{\\Xi_0}  = \\begin{bmatrix} \\mathbf{a_1} & ... & \\mathbf{a_N} \\end{bmatrix} \n",
    "                  \\begin{bmatrix} -\\Im[c_1] \\omega_1 \\\\ \\vdots \\\\ -\\Im[c_N] \\omega_N \\end{bmatrix}\n",
    " \\end{cases}\n",
    "$$\n",
    "\n",
    "Debemos invertir la matriz de autovectores para poder despejar los pesos. Por suerte, las partes reales e imaginarias están desacopladas. \n",
    "\n",
    "Usando dicha matriz inversa, obtenemos\n",
    "\n",
    "$$ \\begin{cases}\n",
    "\\begin{bmatrix} \\Re[c_1] \\\\ \\vdots \\\\ \\Re[c_N] \\end{bmatrix} = \\mathbf{A}^{-1} \\mathbf{\\Psi_0}\\\\\n",
    "\\begin{bmatrix} \\Im[c_1] \\omega_1 \\\\ \\vdots \\\\ \\Im[c_N] \\omega_N \\end{bmatrix} = - \\mathbf{A}^{-1} \\mathbf{\\Xi_0}\n",
    "\\end{cases}\n",
    "$$"
   ]
  },
  {
   "cell_type": "markdown",
   "metadata": {},
   "source": [
    "Notar que en la segunda condición se puede despejar el vector de partes imaginarias de los pesos definiendo una matriz diagonal con las frecuencias angulares:\n",
    "\n",
    "$$ \\bar{\\omega} = \\begin{bmatrix} \\omega_1 & & 0 \\\\ & \\ddots & \\\\ 0 & & \\omega_N \\end{bmatrix} $$\n",
    "\n",
    "de modo que:\n",
    "\n",
    "$$ \\begin{bmatrix} \\omega_1 & & 0 \\\\ & \\ddots & \\\\ 0 & & \\omega_N \\end{bmatrix} \\begin{bmatrix} \\Im[c_1] \\\\ \\vdots \\\\ \\Im[c_N] \\end{bmatrix} = - \\mathbf{A}^{-1} \\mathbf{\\Xi_0} $$\n",
    "\n",
    "Para despejar invertimos esta matriz y obtenemos:\n",
    "\n",
    "$$ \\begin{bmatrix} \\Im[c_1] \\\\ \\vdots \\\\ \\Im[c_N] \\end{bmatrix} = - \\begin{bmatrix} 1/\\omega_1 & & 0 \\\\ & \\ddots & \\\\ 0 & & 1/\\omega_N \\end{bmatrix} \\mathbf{A}^{-1} \\mathbf{\\Xi_0} = \\bar{\\omega}^{-1} \\mathbf{A}^{-1} \\mathbf{\\Xi_0} $$\n",
    "\n",
    "(Al hacer esto hay que tener cuidado con los modos de frecuencia 0)."
   ]
  },
  {
   "cell_type": "code",
   "execution_count": null,
   "metadata": {},
   "outputs": [],
   "source": [
    "# Obtengo la inversa de la matriz de autovectores\n",
    "A_inv = np.linalg.inv(A)\n",
    "\n",
    "A_inv"
   ]
  },
  {
   "cell_type": "code",
   "execution_count": null,
   "metadata": {},
   "outputs": [],
   "source": [
    "# Para hallar la parte real de los pesos simplemente aplico la matriz\n",
    "# inversa de A a la condición inicial sobre las posiciones\n",
    "c_real = np.dot(A_inv, psi_0)\n",
    "\n",
    "c_real"
   ]
  },
  {
   "cell_type": "code",
   "execution_count": null,
   "metadata": {},
   "outputs": [],
   "source": [
    "# Para la parte compleja hay que aplicar dos matrices a la condicion\n",
    "# inicial sobre las velocidades\n",
    "w_matriz     = np.diag(w)\n",
    "w_matriz_inv = np.linalg.inv(w_matriz)\n",
    "c_imag = -np.dot(w_matriz_inv, np.dot(A_inv, xi_0))\n",
    "\n",
    "c_imag"
   ]
  },
  {
   "cell_type": "code",
   "execution_count": null,
   "metadata": {},
   "outputs": [],
   "source": [
    "# Finalmente escribimos los pesos complejos\n",
    "c = c_real + 1j*c_imag\n",
    "\n",
    "c"
   ]
  },
  {
   "cell_type": "code",
   "execution_count": null,
   "metadata": {},
   "outputs": [],
   "source": [
    "# Chequeo posición inicial\n",
    "np.real(np.dot(A, c))"
   ]
  },
  {
   "cell_type": "code",
   "execution_count": null,
   "metadata": {},
   "outputs": [],
   "source": [
    "# Chequeo velocidad inicial\n",
    "np.real(1j*np.dot(A, np.dot(np.diag(w), c)))"
   ]
  },
  {
   "cell_type": "markdown",
   "metadata": {},
   "source": [
    "### Solución en función del tiempo\n",
    "\n",
    "La parte que nos queda es la de evaluar la solución para los puntos del tiempo elegidos."
   ]
  },
  {
   "cell_type": "code",
   "execution_count": null,
   "metadata": {},
   "outputs": [],
   "source": [
    "# Defino las matrices que contendran la solucion a lo largo del tiempo, cada\n",
    "# fila representa una masa, y cada columna un sample de tiempo\n",
    "psi = np.zeros([n_masas, n_samples])        # \\_ ambas son arrays 2D\n",
    "xi  = np.zeros([n_masas, n_samples])        # /\n",
    "\n",
    "psi"
   ]
  },
  {
   "cell_type": "code",
   "execution_count": null,
   "metadata": {},
   "outputs": [],
   "source": [
    "psi.shape"
   ]
  },
  {
   "cell_type": "code",
   "execution_count": null,
   "metadata": {},
   "outputs": [],
   "source": [
    "# Voy calculando la solución para cada masa\n",
    "for i in range(0, n_masas):\n",
    "    \n",
    "    # defino al autovector i-ésimo como un vector columna\n",
    "    ai = A[:,i]\n",
    "    ai.shape = (n_masas,1)\n",
    "    \n",
    "    # uso npm.repmat para expandir el autovector y la exponencial a una matriz\n",
    "    # con n_masas filas y n_samples columnas\n",
    "    aux = c[i]*npm.repmat(ai,1,n_samples)*npm.repmat(np.exp(1j*w[i]*t), n_masas, 1)\n",
    "    \n",
    "    # sumo término a término en posición y velocidad\n",
    "    psi = psi + aux\n",
    "    xi  = xi  + aux*1j*w[i]\n",
    "    "
   ]
  },
  {
   "cell_type": "code",
   "execution_count": null,
   "metadata": {},
   "outputs": [],
   "source": [
    "# Grafico psi y xi versus t para hasta 10 masas\n",
    "n = min(5, n_masas)\n",
    "fig4, ax4 = plt.subplots(nrows=2,ncols=1)\n",
    "# transpongo para poder graficar las dos masas juntas\n",
    "ax4[0].plot(t, np.real(psi[0:n,:].T))               # posicion de ambas masas, uso slice notation\n",
    "ax4[1].plot(t, np.real( xi[0:n,:].T))               # velocidades de ambas masas\n"
   ]
  },
  {
   "cell_type": "code",
   "execution_count": null,
   "metadata": {},
   "outputs": [],
   "source": [
    "# Grafico el movimiento (psi) y la velocidad (xi) colectives para 10 instantes\n",
    "# de tiempo entre t_min y t_max (útil para sistemas de muchas masas)\n",
    "fig5, ax5 = plt.subplots(nrows=2,ncols=1)\n",
    "samples = np.round(np.linspace(0, len(t) - 1, 10)).astype(int)\n",
    "\n",
    "ax5[0].plot(np.real(psi[:,samples])) \n",
    "ax5[1].plot(np.real(xi[:,samples])) "
   ]
  },
  {
   "cell_type": "markdown",
   "metadata": {},
   "source": [
    "## Coordenadas de modos normales\n",
    "\n",
    "Podemos expresar la solución en coordenadas de modos normales. Estas coordenadas sirven para representar al movimiento colectivo del sistema con una única coordenada. La transformación se realiza mediante la matriz de autovectores inversa:\n",
    "\n",
    "$$ \\tilde{\\mathbf{\\Psi}} = \\mathbf{A}^{-1} \\mathbf{\\Psi} $$\n",
    "\n",
    "Para volver a coordenadas de masas:\n",
    "\n",
    "$$ \\mathbf{\\Psi} = \\mathbf{A} \\tilde{\\mathbf{\\Psi}} $$\n",
    "\n",
    "Esta transformación aplicada a la matriz $\\mathbf{\\Omega}$ nos permite diagonalizar el sistema:\n",
    "\n",
    "$$ \\mathbf{A}^{-1} \\mathbf{\\Omega} \\mathbf{A} = \\bar{\\omega} $$\n",
    "\n",
    "Es decir, nos permite obtener una ecuación diferencial para la coordenada del modo i-ésimo ($\\tilde{\\Psi}_i$) que es independiente de las demás:\n",
    "\n",
    "$$ \\ddot {\\tilde{ \\Psi}}_i + \\omega_i^2 \\tilde{\\Psi }_i = 0 $$\n",
    "\n",
    "Notar que la matriz $\\bar{\\omega}$ es la misma que habíamos empleado antes, y que cada modo tiene la dinámica de un oscilador armónico simple con frecuencia $\\omega_i$."
   ]
  },
  {
   "cell_type": "code",
   "execution_count": null,
   "metadata": {},
   "outputs": [],
   "source": [
    "# obtenemos la matriz omega\n",
    "w_matriz_2 = np.dot(A.T, np.dot(W, A))\n",
    "\n",
    "print(w_matriz)\n",
    "print(np.sqrt(np.abs(w_matriz_2)))\n",
    "\n",
    "# Tomo valor absoluto sobre la matriz ya que por cuestiones de redondeo, algunos\n",
    "# elementos pueden ser positivos y otros negativos (cuando en realidad debe ser\n",
    "# diagonal positiva). Para futuros cálculos uso la matriz armada \"a mano\" w_matriz"
   ]
  },
  {
   "cell_type": "markdown",
   "metadata": {},
   "source": [
    "La solución para estas coordenadas se escribe:\n",
    "\n",
    "$$ \\tilde{\\mathbf{\\Psi}} = \\mathbf{A}^{-1}\\mathbf{\\Psi} = \\mathbf{A}^{-1} \\sum_{j=1}^N c_j \\mathbf{a_j} \\exp(i \\omega_j t) $$\n",
    "\n",
    "$$ \\dot{\\tilde{\\mathbf{\\Psi}}} =  i \\mathbf{A}^{-1} \\sum_{j=1}^N \\omega_j c_j \\mathbf{a_j} \\exp(i \\omega_j t) $$\n",
    "\n"
   ]
  },
  {
   "cell_type": "code",
   "execution_count": null,
   "metadata": {},
   "outputs": [],
   "source": [
    "# Defino arrays para la solucion de modos (en posicion y velocidad)\n",
    "# Estos arrays son matrices con tantas filas como masas, y tantas\n",
    "# columnas como instantes de tiempo sampleados\n",
    "psi_modos = np.zeros([n_masas, n_samples])        # \\_ arrays compañeros de los arrays psi y xi\n",
    "xi_modos  = np.zeros([n_masas, n_samples])        # /\n",
    "\n",
    "\n",
    "# Vamos a recorrer la solución de masas a lo largo del tiempo\n",
    "# y a convertir en la solución de modos usando la matriz A\n",
    "\n",
    "for i in range(0, n_samples):\n",
    "    psi[:,i] = np.dot(A_inv, psi[:,i])\n",
    "    xi[:,i]  = np.dot(A_inv,  xi[:,i])\n",
    "\n",
    "psi"
   ]
  },
  {
   "cell_type": "code",
   "execution_count": null,
   "metadata": {},
   "outputs": [],
   "source": [
    "# Grafico psi_modos y xi_modos versus t para hasta 10 modos\n",
    "n = min(5, n_masas)\n",
    "fig_modos, ax_modos = plt.subplots(nrows=2,ncols=1)\n",
    "# transpongo para poder graficar las dos masas juntas\n",
    "ax_modos[0].plot(t, np.real(psi[0:n,:].T))               # posicion de ambas masas, uso slice notation\n",
    "ax_modos[1].plot(t, np.real( xi[0:n,:].T))               # velocidades de ambas masas\n"
   ]
  },
  {
   "cell_type": "markdown",
   "metadata": {},
   "source": [
    "## Energía\n",
    "\n",
    "Hacer"
   ]
  },
  {
   "cell_type": "markdown",
   "metadata": {},
   "source": [
    "## Sistema forzado¶\n",
    "\n",
    "\n",
    "Vamos a resolver el comportamiento del sistema cuando es excitado por una fuerza externa armónica aplicada sobre una o varias de las masas. La ecuación diferencial es:\n",
    "\n",
    "$$ \\mathbf{M} \\mathbf{\\ddot \\Psi} = \\mathbf{K} \\mathbf{\\Psi} + \\mathbf{F_\\text{ext}} \\cos(\\omega_\\text{ext} t)$$\n",
    "\n",
    "\n",
    "$\\mathbf{F}_\\text{ext}$ es un vector columna constante que contiene la amplitud de la fuerza aplicada sobre la masa enésima. En principio es un vector real, cuyos elementos pueden ser positivos pero también negativos (pensar por qué). Pero también podemos permitir que sea un vector complejo, en ese caso las fases complejas representan el desfasaje en la excitación de cada masa.\n",
    "\n",
    "### Parámetros"
   ]
  },
  {
   "cell_type": "code",
   "execution_count": null,
   "metadata": {},
   "outputs": [],
   "source": [
    "# incluyo una disipación despreciable en el sistema, para evitar\n",
    "# divisiones por cero en las amplitudes forzadas\n",
    "gamma = 1e-3 # chequear que este valor es verdaderamente despreciable para la configuración del sistema\n",
    "\n",
    "F_ext = np.array(np.zeros(n_masas), ndmin=2).T\n",
    "F_ext[0] = 1\n",
    "F_ext[1] = 0\n",
    "\n",
    "w_ext = 1.1 # uso la frecuencia del modo fundamental\n",
    "\n",
    "F_ext"
   ]
  },
  {
   "cell_type": "markdown",
   "metadata": {},
   "source": [
    "### Solución \n",
    "\n",
    "Despejamos la matriz de masas:\n",
    "\n",
    "$$ \\mathbf{\\ddot \\Psi} = \\mathbf{M}^{-1} \\mathbf{K} \\mathbf{\\Psi} + \\mathbf{M}^{-1} \\mathbf{F_\\text{ext}} \\cos(\\omega_\\text{ext} t)$$\n",
    "\n",
    "$$ \\mathbf{\\ddot \\Psi} = \\mathbf{\\Omega} \\mathbf{\\Psi} + \\mathbf{a_\\text{ext}} \\cos(\\omega_\\text{ext} t)$$\n",
    "\n",
    "lo que nos permite transformar el forzante en un término de aceleraciones en vez de fuerzas.\n",
    "\n",
    "Para resolver el sistema vamos a utilizar la matriz de autovectores inversa, esto nos permite transformar las coordenadas de masas en coordenadas de modos: \n",
    "\n",
    "$$ \\mathbf{A}^{-1} \\mathbf{\\ddot \\Psi} = \\mathbf{A}^{-1} \\mathbf{\\Omega} \\mathbf{\\Psi} + \\mathbf{A}^{-1} \\mathbf{a_\\text{ext}} \\cos(\\omega_\\text{ext} t)$$\n",
    "\n",
    "$$ \\mathbf{A}^{-1} \\mathbf{\\ddot \\Psi} = \\mathbf{A}^{-1} \\mathbf{\\Omega} \\mathbf{A} \\mathbf{A}^{-1} \\mathbf{\\Psi} + \\mathbf{A}^{-1} \\mathbf{a_\\text{ext}} \\cos(\\omega_\\text{ext} t)$$\n",
    "\n",
    "$$ \\ddot{\\mathbf{\\tilde{ \\Psi}} }= - \\bar{\\omega}^2 \\mathbf{\\tilde{\\Psi}} + \\mathbf{\\tilde{a}_\\text{ext}} \\cos(\\omega_\\text{ext} t)$$\n",
    "\n",
    "donde los símbolos con ~ indican vectores transformados a la base de modos normales, y donde:\n",
    "\n",
    "$$ \\bar{\\omega}^2 = \\begin{bmatrix} \\omega_1^2 & & 0 \\\\ & \\ddots & \\\\ 0 & & \\omega_N^2 \\end{bmatrix} $$"
   ]
  },
  {
   "cell_type": "markdown",
   "metadata": {},
   "source": [
    "Al ser esta matriz diagonal, las ecuaciones diferenciales para cada modo están desacopladas. Esto significa que la solución para la coordenada de modo i-ésima está dada por la solución de un oscilador armónico simple forzado:\n",
    "\n",
    "$$ \\tilde{\\Psi}_i^\\text{part} = b_i^\\text{el}\\cos(\\omega_\\text{ext} t ) + b_i^\\text{ab}\\sin(\\omega_\\text{ext} t ) $$\n",
    "\n",
    "donde $b_i^\\text{el}$ y $b_i^\\text{ab}$ representan las amplitudes elástica y absorbente para el modo i-ésimo en función de los parámetros del sistema y de $\\omega_\\text{ext}$:\n",
    "\n",
    "$$ b_i^\\text{el} = \\tilde{a}_{\\text{ext},i} \\frac{\\omega_i^2 - \\omega_\\text{ext}^2 }{(\\omega_i^2 - \\omega_\\text{ext}^2 )^2 + (\\omega_\\text{ext} \\gamma)^2}$$\n",
    "\n",
    "$$ b_i^\\text{ab} = \\tilde{a}_{\\text{ext},i} \\frac{ \\gamma \\omega_\\text{ext} }{(\\omega_i^2 - \\omega_\\text{ext}^2 )^2 + (\\omega_\\text{ext} \\gamma)^2}$$\n",
    "\n",
    "Como estamos trabajando en el régimen en que la disipación es despreciable:\n",
    "\n",
    "$$ b_i^\\text{el} \\sim \\frac{\\tilde{a}_{\\text{ext},i} }{\\omega_i^2 - \\omega_\\text{ext}^2} = b_i$$\n",
    "\n",
    "$$ b_i^\\text{ab} \\sim 0$$"
   ]
  },
  {
   "cell_type": "markdown",
   "metadata": {},
   "source": [
    "En notación vectorial, la solución para las coordenadas de modos es:\n",
    "\n",
    "$$ \\mathbf{\\tilde{\\Psi}_\\text{part}} = \\mathbf{b} \\cos(\\omega_\\text{ext} t ) $$\n",
    "\n",
    "la cual se puede transformar a las coordenadas de partículas usando la matriz de autovectores columna:\n",
    "\n",
    "$$ \\mathbf{\\Psi_\\text{part}} = \\mathbf{A}\\mathbf{\\tilde{\\Psi}_\\text{part}} = \\mathbf{A} \\mathbf{b} \\cos(\\omega_\\text{ext} t ) $$"
   ]
  },
  {
   "cell_type": "code",
   "execution_count": null,
   "metadata": {},
   "outputs": [],
   "source": [
    "# Obtengo el vector de aceleraciones producidas por la fuerza externa\n",
    "a_ext = np.dot(M_inv, F_ext)\n",
    "\n",
    "a_ext"
   ]
  },
  {
   "cell_type": "code",
   "execution_count": null,
   "metadata": {},
   "outputs": [],
   "source": [
    "# Transformo el vector de aceleraciones a la base de modos normales\n",
    "a_ext_modos = np.dot(A_inv, a_ext)\n",
    "\n",
    "a_ext_modos"
   ]
  },
  {
   "cell_type": "code",
   "execution_count": null,
   "metadata": {},
   "outputs": [],
   "source": [
    "# Obtengo las amplitudes para la solucion de modos normales forzados\n",
    "\n",
    "# primero armo un vector que contiene los coeficientes de frecuencias\n",
    "# y disipacion de las amplitudes forzadas\n",
    "aux = (w**2 - w_ext**2) / ((w**2 - w_ext**2)**2 + (gamma*w_ext)**2)\n",
    "\n",
    "# con ese vector armo una matriz diagonal\n",
    "aux = np.diag(aux)\n",
    "\n",
    "# aplico esa matriz a las aceleraciones externas aplicadas sobre los modos\n",
    "b_modos = np.dot(aux, a_ext_modos)\n",
    "\n",
    "b_modos"
   ]
  },
  {
   "cell_type": "code",
   "execution_count": null,
   "metadata": {},
   "outputs": [],
   "source": [
    "# Transformo a las amplitudes de las masas\n",
    "b_masas = np.dot(A, b_modos)\n",
    "\n",
    "b_masas"
   ]
  },
  {
   "cell_type": "code",
   "execution_count": null,
   "metadata": {},
   "outputs": [],
   "source": [
    "# La solución estacionaria se escribe en una sola linea para la posicion y\n",
    "# otra para la velocidad\n",
    "psi_forzado =  npm.repmat(b_masas,1,n_samples)*npm.repmat(np.cos(w_ext *t), n_masas, 1)\n",
    "xi_forzado = -npm.repmat(b_masas,1,n_samples)*npm.repmat(np.sin(w_ext *t), n_masas, 1)*w_ext"
   ]
  },
  {
   "cell_type": "code",
   "execution_count": null,
   "metadata": {},
   "outputs": [],
   "source": [
    "# Grafico psi y xi versus t para hasta 10 masas\n",
    "n = min(5, n_masas)\n",
    "fig6, ax6 = plt.subplots(nrows=2,ncols=1)\n",
    "# transpongo para poder graficar las dos masas juntas\n",
    "ax6[0].plot(t, psi_forzado[0:n,:].T)               # posicion de ambas masas, uso slice notation\n",
    "ax6[1].plot(t,  xi_forzado[0:n,:].T)               # velocidades de ambas masas"
   ]
  },
  {
   "cell_type": "code",
   "execution_count": null,
   "metadata": {},
   "outputs": [],
   "source": [
    "# Ejercicio 13: dos masas cuando se fuerza una sola de ellas\n",
    "# armado a mano\n",
    "psi_masa_1 = F_ext[0] / 2 / m *np.cos(w_ext *t) *(1/(w[0]**2 - w_ext**2) + 1/(w[1]**2 - w_ext**2))\n",
    "psi_masa_2 = F_ext[0] / 2 / m *np.cos(w_ext *t) *(1/(w[0]**2 - w_ext**2) - 1/(w[1]**2 - w_ext**2))\n",
    "\n",
    "fig7, ax7 = plt.subplots(nrows=1,ncols=1)\n",
    "ax7.plot(t, psi_masa_1)\n",
    "ax7.plot(t, psi_masa_2)\n"
   ]
  },
  {
   "cell_type": "code",
   "execution_count": null,
   "metadata": {},
   "outputs": [],
   "source": []
  }
 ],
 "metadata": {
  "kernelspec": {
   "display_name": "Python 3",
   "language": "python",
   "name": "python3"
  },
  "language_info": {
   "codemirror_mode": {
    "name": "ipython",
    "version": 3
   },
   "file_extension": ".py",
   "mimetype": "text/x-python",
   "name": "python",
   "nbconvert_exporter": "python",
   "pygments_lexer": "ipython3",
   "version": "3.8.3"
  }
 },
 "nbformat": 4,
 "nbformat_minor": 4
}
